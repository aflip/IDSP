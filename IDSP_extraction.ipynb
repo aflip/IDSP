{
  "nbformat": 4,
  "nbformat_minor": 0,
  "metadata": {
    "colab": {
      "name": "IDSP_extraction",
      "provenance": [],
      "collapsed_sections": [
        "gSN6q4E-vR_0",
        "bKj51UPdc6Xx",
        "rCvf0swOdQJL"
      ],
      "toc_visible": true,
      "machine_shape": "hm",
      "authorship_tag": "ABX9TyM2jExkWn5vkfNx+cyM72iU",
      "include_colab_link": true
    },
    "kernelspec": {
      "name": "python3",
      "display_name": "Python 3"
    }
  },
  "cells": [
    {
      "cell_type": "markdown",
      "metadata": {
        "id": "view-in-github",
        "colab_type": "text"
      },
      "source": [
        "<a href=\"https://colab.research.google.com/github/aflip/IDSP/blob/main/IDSP_extraction.ipynb\" target=\"_parent\"><img src=\"https://colab.research.google.com/assets/colab-badge.svg\" alt=\"Open In Colab\"/></a>"
      ]
    },
    {
      "cell_type": "markdown",
      "metadata": {
        "id": "tTb5sW1xqYOM"
      },
      "source": [
        "\n",
        "This research is funded by Medbuddy-Docsapp\n",
        "\n",
        "## [DocsApp -- Talk to a Specialist Doctor 24x7 - Download now](https://play.google.com/store/apps/details?id=com.docsapp.patients&hl=en_IN)\n",
        "\n",
        "\n",
        "The library I settled on after experimenting with most of the well maintained one is Camelot.py by Vinayak Mehta. It features a very intutive API, really good visual debugging tools extensive docs which make life a lot easier.  It's brilliant and you can find out more at https://camelot-py.readthedocs.io\n",
        "\n",
        "It so happens that Vinayak has a notebook in which he applies camelot to extracting IDSP data, and so a lot of the code I have used in this notebook is his. Source notebook is here: https://gist.github.com/vinayak-mehta/e5949f7c2410a0e12f25d3682dc9e873 \n",
        "\n",
        "I used the firefox addon DownloadThemAll https://addons.mozilla.org/en-US/firefox/addon/downthemall/ to extract the data from IDSP website.  I would highlight a particular year and save that to a folder.  \n",
        "\n",
        "I had also tried extracting using the source notebook downloader, but kept getting timed out. Also tried HTTRACK but DTA was the best.\n",
        "\n"
      ]
    },
    {
      "cell_type": "markdown",
      "metadata": {
        "id": "gSN6q4E-vR_0"
      },
      "source": [
        "## Pre Code workflow\n",
        "1. Download PDF files from https://idsp.nic.in/index4.php?lang=1&level=0&linkid=406&lid=3689 into yearly folders using DTA\n",
        "2. Split each year's folder into 2 folders of around 25 files each (to aboid ram running out)\n",
        "3. Copy one or two files from each year into a test folder to run the experiments from, after which one can run the code on the whole year\n",
        "4. Set colab to a high ram instance. I have a Colab subscription, which allows me to do this. YMMV. It takes roughly as much Ram in GBs as the number of files being processed in one run, so you might want to split up the folders smaller/larger depending. \n"
      ]
    },
    {
      "cell_type": "markdown",
      "metadata": {
        "id": "a8Wgn4Mgcaqn"
      },
      "source": [
        "# Set up the system"
      ]
    },
    {
      "cell_type": "code",
      "metadata": {
        "id": "sh9ccTlMX_pE"
      },
      "source": [
        "from google.colab import drive\n",
        "drive.mount('/content/gdrive')"
      ],
      "execution_count": null,
      "outputs": []
    },
    {
      "cell_type": "code",
      "metadata": {
        "id": "SzykXCjpZq3h"
      },
      "source": [
        "!apt install python-tk ghostscript # GS is a prerequisite for Camelot"
      ],
      "execution_count": null,
      "outputs": []
    },
    {
      "cell_type": "code",
      "metadata": {
        "id": "hREQff9pZO8G"
      },
      "source": [
        "!pip install camelot-py # This is the library used to do the extraction"
      ],
      "execution_count": null,
      "outputs": []
    },
    {
      "cell_type": "code",
      "metadata": {
        "id": "pdYmlignZ6rB"
      },
      "source": [
        "! pip freeze --local > /content/gdrive/My\\ Drive/colab_installed.txt \n",
        "# So that I have a handy list to reinstall the env from"
      ],
      "execution_count": null,
      "outputs": []
    },
    {
      "cell_type": "code",
      "metadata": {
        "id": "-yZVrgHuah9E",
        "colab": {
          "base_uri": "https://localhost:8080/",
          "height": 1000
        },
        "outputId": "2e89dcd4-bf2b-4b34-9bbc-a5971b1142ef"
      },
      "source": [
        "# run this for reruns only add --force-reinstall to upgrade if it's been a long time\n",
        "! pip install --upgrade `cat /content/gdrive/My\\ Drive/colab_installed.txt`"
      ],
      "execution_count": null,
      "outputs": [
        {
          "output_type": "stream",
          "text": [
            "Requirement already up-to-date: absl-py==0.9.0 in /usr/local/lib/python3.6/dist-packages (0.9.0)\n",
            "Requirement already up-to-date: alabaster==0.7.12 in /usr/local/lib/python3.6/dist-packages (0.7.12)\n",
            "Requirement already up-to-date: albumentations==0.1.12 in /usr/local/lib/python3.6/dist-packages (0.1.12)\n",
            "Requirement already up-to-date: altair==4.1.0 in /usr/local/lib/python3.6/dist-packages (4.1.0)\n",
            "Requirement already up-to-date: argon2-cffi==20.1.0 in /usr/local/lib/python3.6/dist-packages (20.1.0)\n",
            "Requirement already up-to-date: asgiref==3.2.10 in /usr/local/lib/python3.6/dist-packages (3.2.10)\n",
            "Requirement already up-to-date: astor==0.8.1 in /usr/local/lib/python3.6/dist-packages (0.8.1)\n",
            "Requirement already up-to-date: astropy==4.0.1.post1 in /usr/local/lib/python3.6/dist-packages (4.0.1.post1)\n",
            "Requirement already up-to-date: astunparse==1.6.3 in /usr/local/lib/python3.6/dist-packages (1.6.3)\n",
            "Requirement already up-to-date: atari-py==0.2.6 in /usr/local/lib/python3.6/dist-packages (0.2.6)\n",
            "Requirement already up-to-date: atomicwrites==1.4.0 in /usr/local/lib/python3.6/dist-packages (1.4.0)\n",
            "Requirement already up-to-date: attrs==19.3.0 in /usr/local/lib/python3.6/dist-packages (19.3.0)\n",
            "Requirement already up-to-date: audioread==2.1.8 in /usr/local/lib/python3.6/dist-packages (2.1.8)\n",
            "Requirement already up-to-date: autograd==1.3 in /usr/local/lib/python3.6/dist-packages (1.3)\n",
            "Requirement already up-to-date: Babel==2.8.0 in /usr/local/lib/python3.6/dist-packages (2.8.0)\n",
            "Requirement already up-to-date: backcall==0.2.0 in /usr/local/lib/python3.6/dist-packages (0.2.0)\n",
            "Requirement already up-to-date: beautifulsoup4==4.6.3 in /usr/local/lib/python3.6/dist-packages (4.6.3)\n",
            "Requirement already up-to-date: bleach==3.1.5 in /usr/local/lib/python3.6/dist-packages (3.1.5)\n",
            "Requirement already up-to-date: blis==0.4.1 in /usr/local/lib/python3.6/dist-packages (0.4.1)\n",
            "Requirement already up-to-date: bokeh==2.1.1 in /usr/local/lib/python3.6/dist-packages (2.1.1)\n",
            "Requirement already up-to-date: boto==2.49.0 in /usr/local/lib/python3.6/dist-packages (2.49.0)\n",
            "Requirement already up-to-date: boto3==1.14.37 in /usr/local/lib/python3.6/dist-packages (1.14.37)\n",
            "Requirement already up-to-date: botocore==1.17.37 in /usr/local/lib/python3.6/dist-packages (1.17.37)\n",
            "Requirement already up-to-date: Bottleneck==1.3.2 in /usr/local/lib/python3.6/dist-packages (1.3.2)\n",
            "Requirement already up-to-date: branca==0.4.1 in /usr/local/lib/python3.6/dist-packages (0.4.1)\n",
            "Requirement already up-to-date: bs4==0.0.1 in /usr/local/lib/python3.6/dist-packages (0.0.1)\n",
            "Requirement already up-to-date: CacheControl==0.12.6 in /usr/local/lib/python3.6/dist-packages (0.12.6)\n",
            "Requirement already up-to-date: cachetools==4.1.1 in /usr/local/lib/python3.6/dist-packages (4.1.1)\n",
            "Collecting camelot-py==0.8.2\n",
            "\u001b[?25l  Downloading https://files.pythonhosted.org/packages/ed/78/123007d6aff9811bd087ff5dd68e06a9df62b2fdbf7685d74c9d6f247921/camelot_py-0.8.2-py3-none-any.whl (42kB)\n",
            "\u001b[K     |████████████████████████████████| 51kB 1.7MB/s \n",
            "\u001b[?25hRequirement already up-to-date: catalogue==1.0.0 in /usr/local/lib/python3.6/dist-packages (1.0.0)\n",
            "Requirement already up-to-date: certifi==2020.6.20 in /usr/local/lib/python3.6/dist-packages (2020.6.20)\n",
            "Requirement already up-to-date: cffi==1.14.1 in /usr/local/lib/python3.6/dist-packages (1.14.1)\n",
            "Requirement already up-to-date: chainer==7.4.0 in /usr/local/lib/python3.6/dist-packages (7.4.0)\n",
            "Requirement already up-to-date: chardet==3.0.4 in /usr/local/lib/python3.6/dist-packages (3.0.4)\n",
            "Requirement already up-to-date: click==7.1.2 in /usr/local/lib/python3.6/dist-packages (7.1.2)\n",
            "Requirement already up-to-date: cloudpickle==1.3.0 in /usr/local/lib/python3.6/dist-packages (1.3.0)\n",
            "Requirement already up-to-date: cmake==3.12.0 in /usr/local/lib/python3.6/dist-packages (3.12.0)\n",
            "Requirement already up-to-date: cmdstanpy==0.4.0 in /usr/local/lib/python3.6/dist-packages (0.4.0)\n",
            "Requirement already up-to-date: colorlover==0.3.0 in /usr/local/lib/python3.6/dist-packages (0.3.0)\n",
            "Requirement already up-to-date: community==1.0.0b1 in /usr/local/lib/python3.6/dist-packages (1.0.0b1)\n",
            "Requirement already up-to-date: contextlib2==0.5.5 in /usr/local/lib/python3.6/dist-packages (0.5.5)\n",
            "Requirement already up-to-date: convertdate==2.2.1 in /usr/local/lib/python3.6/dist-packages (2.2.1)\n",
            "Requirement already up-to-date: coverage==3.7.1 in /usr/local/lib/python3.6/dist-packages (3.7.1)\n",
            "Requirement already up-to-date: coveralls==0.5 in /usr/local/lib/python3.6/dist-packages (0.5)\n",
            "Requirement already up-to-date: crcmod==1.7 in /usr/local/lib/python3.6/dist-packages (1.7)\n",
            "Collecting cryptography==3.0\n",
            "\u001b[?25l  Downloading https://files.pythonhosted.org/packages/ba/91/84a29d6a27fd6dfc21f475704c4d2053d58ed7a4033c2b0ce1b4ca4d03d9/cryptography-3.0-cp35-abi3-manylinux2010_x86_64.whl (2.7MB)\n",
            "\u001b[K     |████████████████████████████████| 2.7MB 6.3MB/s \n",
            "\u001b[?25hRequirement already up-to-date: cufflinks==0.17.3 in /usr/local/lib/python3.6/dist-packages (0.17.3)\n",
            "Requirement already up-to-date: cvxopt==1.2.5 in /usr/local/lib/python3.6/dist-packages (1.2.5)\n",
            "Requirement already up-to-date: cvxpy==1.0.31 in /usr/local/lib/python3.6/dist-packages (1.0.31)\n",
            "Requirement already up-to-date: cycler==0.10.0 in /usr/local/lib/python3.6/dist-packages (0.10.0)\n",
            "Requirement already up-to-date: cymem==2.0.3 in /usr/local/lib/python3.6/dist-packages (2.0.3)\n",
            "Requirement already up-to-date: Cython==0.29.21 in /usr/local/lib/python3.6/dist-packages (0.29.21)\n",
            "Requirement already up-to-date: daft==0.0.4 in /usr/local/lib/python3.6/dist-packages (0.0.4)\n",
            "Requirement already up-to-date: dask==2.12.0 in /usr/local/lib/python3.6/dist-packages (2.12.0)\n",
            "Requirement already up-to-date: dataclasses==0.7 in /usr/local/lib/python3.6/dist-packages (0.7)\n",
            "Requirement already up-to-date: datascience==0.10.6 in /usr/local/lib/python3.6/dist-packages (0.10.6)\n",
            "Requirement already up-to-date: decorator==4.4.2 in /usr/local/lib/python3.6/dist-packages (4.4.2)\n",
            "Requirement already up-to-date: defusedxml==0.6.0 in /usr/local/lib/python3.6/dist-packages (0.6.0)\n",
            "Requirement already up-to-date: descartes==1.1.0 in /usr/local/lib/python3.6/dist-packages (1.1.0)\n",
            "Requirement already up-to-date: dill==0.3.2 in /usr/local/lib/python3.6/dist-packages (0.3.2)\n",
            "Requirement already up-to-date: distributed==1.25.3 in /usr/local/lib/python3.6/dist-packages (1.25.3)\n",
            "Requirement already up-to-date: Django==3.1 in /usr/local/lib/python3.6/dist-packages (3.1)\n",
            "Requirement already up-to-date: dlib==19.18.0 in /usr/local/lib/python3.6/dist-packages (19.18.0)\n",
            "Requirement already up-to-date: dm-tree==0.1.5 in /usr/local/lib/python3.6/dist-packages (0.1.5)\n",
            "Requirement already up-to-date: docopt==0.6.2 in /usr/local/lib/python3.6/dist-packages (0.6.2)\n",
            "Requirement already up-to-date: docutils==0.15.2 in /usr/local/lib/python3.6/dist-packages (0.15.2)\n",
            "Requirement already up-to-date: dopamine-rl==1.0.5 in /usr/local/lib/python3.6/dist-packages (1.0.5)\n",
            "Requirement already up-to-date: earthengine-api==0.1.229 in /usr/local/lib/python3.6/dist-packages (0.1.229)\n",
            "Requirement already up-to-date: easydict==1.9 in /usr/local/lib/python3.6/dist-packages (1.9)\n",
            "Requirement already up-to-date: ecos==2.0.7.post1 in /usr/local/lib/python3.6/dist-packages (2.0.7.post1)\n",
            "Requirement already up-to-date: editdistance==0.5.3 in /usr/local/lib/python3.6/dist-packages (0.5.3)\n",
            "Requirement already up-to-date: en-core-web-sm==2.2.5 in /usr/local/lib/python3.6/dist-packages (2.2.5)\n",
            "Requirement already up-to-date: entrypoints==0.3 in /usr/local/lib/python3.6/dist-packages (0.3)\n",
            "Requirement already up-to-date: ephem==3.7.7.1 in /usr/local/lib/python3.6/dist-packages (3.7.7.1)\n",
            "Requirement already up-to-date: et-xmlfile==1.0.1 in /usr/local/lib/python3.6/dist-packages (1.0.1)\n",
            "Requirement already up-to-date: fa2==0.3.5 in /usr/local/lib/python3.6/dist-packages (0.3.5)\n",
            "Requirement already up-to-date: fancyimpute==0.4.3 in /usr/local/lib/python3.6/dist-packages (0.4.3)\n",
            "Requirement already up-to-date: fastai==1.0.61 in /usr/local/lib/python3.6/dist-packages (1.0.61)\n",
            "Requirement already up-to-date: fastdtw==0.3.4 in /usr/local/lib/python3.6/dist-packages (0.3.4)\n",
            "Requirement already up-to-date: fastprogress==0.2.5 in /usr/local/lib/python3.6/dist-packages (0.2.5)\n",
            "Requirement already up-to-date: fastrlock==0.5 in /usr/local/lib/python3.6/dist-packages (0.5)\n",
            "Requirement already up-to-date: fbprophet==0.6 in /usr/local/lib/python3.6/dist-packages (0.6)\n",
            "Requirement already up-to-date: feather-format==0.4.1 in /usr/local/lib/python3.6/dist-packages (0.4.1)\n",
            "Requirement already up-to-date: featuretools==0.4.1 in /usr/local/lib/python3.6/dist-packages (0.4.1)\n",
            "Requirement already up-to-date: filelock==3.0.12 in /usr/local/lib/python3.6/dist-packages (3.0.12)\n",
            "Requirement already up-to-date: firebase-admin==4.1.0 in /usr/local/lib/python3.6/dist-packages (4.1.0)\n",
            "Requirement already up-to-date: fix-yahoo-finance==0.0.22 in /usr/local/lib/python3.6/dist-packages (0.0.22)\n",
            "Requirement already up-to-date: Flask==1.1.2 in /usr/local/lib/python3.6/dist-packages (1.1.2)\n",
            "Requirement already up-to-date: folium==0.8.3 in /usr/local/lib/python3.6/dist-packages (0.8.3)\n",
            "Requirement already up-to-date: fsspec==0.8.0 in /usr/local/lib/python3.6/dist-packages (0.8.0)\n",
            "Requirement already up-to-date: future==0.16.0 in /usr/local/lib/python3.6/dist-packages (0.16.0)\n",
            "Requirement already up-to-date: gast==0.3.3 in /usr/local/lib/python3.6/dist-packages (0.3.3)\n",
            "Requirement already up-to-date: GDAL==2.2.2 in /usr/lib/python3/dist-packages (2.2.2)\n",
            "Requirement already up-to-date: gdown==3.6.4 in /usr/local/lib/python3.6/dist-packages (3.6.4)\n",
            "Requirement already up-to-date: gensim==3.6.0 in /usr/local/lib/python3.6/dist-packages (3.6.0)\n",
            "Requirement already up-to-date: geographiclib==1.50 in /usr/local/lib/python3.6/dist-packages (1.50)\n",
            "Requirement already up-to-date: geopy==1.17.0 in /usr/local/lib/python3.6/dist-packages (1.17.0)\n",
            "Requirement already up-to-date: gin-config==0.3.0 in /usr/local/lib/python3.6/dist-packages (0.3.0)\n",
            "Requirement already up-to-date: glob2==0.7 in /usr/local/lib/python3.6/dist-packages (0.7)\n",
            "Requirement already up-to-date: google==2.0.3 in /usr/local/lib/python3.6/dist-packages (2.0.3)\n",
            "Requirement already up-to-date: google-api-core==1.16.0 in /usr/local/lib/python3.6/dist-packages (1.16.0)\n",
            "Requirement already up-to-date: google-api-python-client==1.7.12 in /usr/local/lib/python3.6/dist-packages (1.7.12)\n",
            "Requirement already up-to-date: google-auth==1.17.2 in /usr/local/lib/python3.6/dist-packages (1.17.2)\n",
            "Requirement already up-to-date: google-auth-httplib2==0.0.4 in /usr/local/lib/python3.6/dist-packages (0.0.4)\n",
            "Requirement already up-to-date: google-auth-oauthlib==0.4.1 in /usr/local/lib/python3.6/dist-packages (0.4.1)\n",
            "Requirement already up-to-date: google-cloud-bigquery==1.21.0 in /usr/local/lib/python3.6/dist-packages (1.21.0)\n",
            "Requirement already up-to-date: google-cloud-core==1.0.3 in /usr/local/lib/python3.6/dist-packages (1.0.3)\n",
            "Requirement already up-to-date: google-cloud-datastore==1.8.0 in /usr/local/lib/python3.6/dist-packages (1.8.0)\n",
            "Requirement already up-to-date: google-cloud-firestore==1.7.0 in /usr/local/lib/python3.6/dist-packages (1.7.0)\n",
            "Requirement already up-to-date: google-cloud-language==1.2.0 in /usr/local/lib/python3.6/dist-packages (1.2.0)\n",
            "Requirement already up-to-date: google-cloud-storage==1.18.1 in /usr/local/lib/python3.6/dist-packages (1.18.1)\n",
            "Requirement already up-to-date: google-cloud-translate==1.5.0 in /usr/local/lib/python3.6/dist-packages (1.5.0)\n",
            "Requirement already up-to-date: google-colab==1.0.0 in /usr/local/lib/python3.6/dist-packages (1.0.0)\n",
            "Requirement already up-to-date: google-pasta==0.2.0 in /usr/local/lib/python3.6/dist-packages (0.2.0)\n",
            "Requirement already up-to-date: google-resumable-media==0.4.1 in /usr/local/lib/python3.6/dist-packages (0.4.1)\n",
            "Requirement already up-to-date: googleapis-common-protos==1.52.0 in /usr/local/lib/python3.6/dist-packages (1.52.0)\n",
            "Requirement already up-to-date: googledrivedownloader==0.4 in /usr/local/lib/python3.6/dist-packages (0.4)\n",
            "Requirement already up-to-date: graphviz==0.10.1 in /usr/local/lib/python3.6/dist-packages (0.10.1)\n",
            "Requirement already up-to-date: grpcio==1.31.0 in /usr/local/lib/python3.6/dist-packages (1.31.0)\n",
            "Requirement already up-to-date: gspread==3.0.1 in /usr/local/lib/python3.6/dist-packages (3.0.1)\n",
            "Requirement already up-to-date: gspread-dataframe==3.0.7 in /usr/local/lib/python3.6/dist-packages (3.0.7)\n",
            "Requirement already up-to-date: gym==0.17.2 in /usr/local/lib/python3.6/dist-packages (0.17.2)\n",
            "Requirement already up-to-date: h5py==2.10.0 in /usr/local/lib/python3.6/dist-packages (2.10.0)\n",
            "Requirement already up-to-date: HeapDict==1.0.1 in /usr/local/lib/python3.6/dist-packages (1.0.1)\n",
            "Requirement already up-to-date: holidays==0.9.12 in /usr/local/lib/python3.6/dist-packages (0.9.12)\n",
            "Requirement already up-to-date: holoviews==1.13.3 in /usr/local/lib/python3.6/dist-packages (1.13.3)\n",
            "Requirement already up-to-date: html5lib==1.0.1 in /usr/local/lib/python3.6/dist-packages (1.0.1)\n",
            "Requirement already up-to-date: httpimport==0.5.18 in /usr/local/lib/python3.6/dist-packages (0.5.18)\n",
            "Requirement already up-to-date: httplib2==0.17.4 in /usr/local/lib/python3.6/dist-packages (0.17.4)\n",
            "Requirement already up-to-date: httplib2shim==0.0.3 in /usr/local/lib/python3.6/dist-packages (0.0.3)\n",
            "Requirement already up-to-date: humanize==0.5.1 in /usr/local/lib/python3.6/dist-packages (0.5.1)\n",
            "Requirement already up-to-date: hyperopt==0.1.2 in /usr/local/lib/python3.6/dist-packages (0.1.2)\n",
            "Requirement already up-to-date: ideep4py==2.0.0.post3 in /usr/local/lib/python3.6/dist-packages (2.0.0.post3)\n",
            "Requirement already up-to-date: idna==2.10 in /usr/local/lib/python3.6/dist-packages (2.10)\n",
            "Requirement already up-to-date: image==1.5.32 in /usr/local/lib/python3.6/dist-packages (1.5.32)\n",
            "Requirement already up-to-date: imageio==2.4.1 in /usr/local/lib/python3.6/dist-packages (2.4.1)\n",
            "Requirement already up-to-date: imagesize==1.2.0 in /usr/local/lib/python3.6/dist-packages (1.2.0)\n",
            "Requirement already up-to-date: imbalanced-learn==0.4.3 in /usr/local/lib/python3.6/dist-packages (0.4.3)\n",
            "Requirement already up-to-date: imblearn==0.0 in /usr/local/lib/python3.6/dist-packages (0.0)\n",
            "Requirement already up-to-date: imgaug==0.2.9 in /usr/local/lib/python3.6/dist-packages (0.2.9)\n",
            "Requirement already up-to-date: importlib-metadata==1.7.0 in /usr/local/lib/python3.6/dist-packages (1.7.0)\n",
            "Requirement already up-to-date: imutils==0.5.3 in /usr/local/lib/python3.6/dist-packages (0.5.3)\n",
            "Requirement already up-to-date: inflect==2.1.0 in /usr/local/lib/python3.6/dist-packages (2.1.0)\n",
            "Requirement already up-to-date: iniconfig==1.0.1 in /usr/local/lib/python3.6/dist-packages (1.0.1)\n",
            "Requirement already up-to-date: intel-openmp==2020.0.133 in /usr/local/lib/python3.6/dist-packages (2020.0.133)\n",
            "Requirement already up-to-date: intervaltree==2.1.0 in /usr/local/lib/python3.6/dist-packages (2.1.0)\n",
            "Requirement already up-to-date: ipykernel==4.10.1 in /usr/local/lib/python3.6/dist-packages (4.10.1)\n",
            "Requirement already up-to-date: ipython==5.5.0 in /usr/local/lib/python3.6/dist-packages (5.5.0)\n",
            "Requirement already up-to-date: ipython-genutils==0.2.0 in /usr/local/lib/python3.6/dist-packages (0.2.0)\n",
            "Requirement already up-to-date: ipython-sql==0.3.9 in /usr/local/lib/python3.6/dist-packages (0.3.9)\n",
            "Requirement already up-to-date: ipywidgets==7.5.1 in /usr/local/lib/python3.6/dist-packages (7.5.1)\n",
            "Requirement already up-to-date: itsdangerous==1.1.0 in /usr/local/lib/python3.6/dist-packages (1.1.0)\n",
            "Requirement already up-to-date: jax==0.1.75 in /usr/local/lib/python3.6/dist-packages (0.1.75)\n",
            "Requirement already up-to-date: jaxlib==0.1.52 in /usr/local/lib/python3.6/dist-packages (0.1.52)\n",
            "Requirement already up-to-date: jdcal==1.4.1 in /usr/local/lib/python3.6/dist-packages (1.4.1)\n",
            "Requirement already up-to-date: jedi==0.17.2 in /usr/local/lib/python3.6/dist-packages (0.17.2)\n",
            "Requirement already up-to-date: jieba==0.42.1 in /usr/local/lib/python3.6/dist-packages (0.42.1)\n",
            "Requirement already up-to-date: Jinja2==2.11.2 in /usr/local/lib/python3.6/dist-packages (2.11.2)\n",
            "Requirement already up-to-date: jmespath==0.10.0 in /usr/local/lib/python3.6/dist-packages (0.10.0)\n",
            "Requirement already up-to-date: joblib==0.16.0 in /usr/local/lib/python3.6/dist-packages (0.16.0)\n",
            "Requirement already up-to-date: jpeg4py==0.1.4 in /usr/local/lib/python3.6/dist-packages (0.1.4)\n",
            "Requirement already up-to-date: jsonschema==2.6.0 in /usr/local/lib/python3.6/dist-packages (2.6.0)\n",
            "Requirement already up-to-date: jupyter==1.0.0 in /usr/local/lib/python3.6/dist-packages (1.0.0)\n",
            "Requirement already up-to-date: jupyter-client==5.3.5 in /usr/local/lib/python3.6/dist-packages (5.3.5)\n",
            "Requirement already up-to-date: jupyter-console==5.2.0 in /usr/local/lib/python3.6/dist-packages (5.2.0)\n",
            "Requirement already up-to-date: jupyter-core==4.6.3 in /usr/local/lib/python3.6/dist-packages (4.6.3)\n",
            "Requirement already up-to-date: kaggle==1.5.6 in /usr/local/lib/python3.6/dist-packages (1.5.6)\n",
            "Requirement already up-to-date: kapre==0.1.3.1 in /usr/local/lib/python3.6/dist-packages (0.1.3.1)\n",
            "Requirement already up-to-date: Keras==2.4.3 in /usr/local/lib/python3.6/dist-packages (2.4.3)\n",
            "Requirement already up-to-date: Keras-Preprocessing==1.1.2 in /usr/local/lib/python3.6/dist-packages (1.1.2)\n",
            "Requirement already up-to-date: keras-vis==0.4.1 in /usr/local/lib/python3.6/dist-packages (0.4.1)\n",
            "Requirement already up-to-date: kiwisolver==1.2.0 in /usr/local/lib/python3.6/dist-packages (1.2.0)\n",
            "Requirement already up-to-date: knnimpute==0.1.0 in /usr/local/lib/python3.6/dist-packages (0.1.0)\n",
            "Requirement already up-to-date: librosa==0.6.3 in /usr/local/lib/python3.6/dist-packages (0.6.3)\n",
            "Requirement already up-to-date: lightgbm==2.2.3 in /usr/local/lib/python3.6/dist-packages (2.2.3)\n",
            "Requirement already up-to-date: llvmlite==0.31.0 in /usr/local/lib/python3.6/dist-packages (0.31.0)\n",
            "Requirement already up-to-date: lmdb==0.98 in /usr/local/lib/python3.6/dist-packages (0.98)\n",
            "Requirement already up-to-date: lucid==0.3.8 in /usr/local/lib/python3.6/dist-packages (0.3.8)\n",
            "Requirement already up-to-date: LunarCalendar==0.0.9 in /usr/local/lib/python3.6/dist-packages (0.0.9)\n",
            "Requirement already up-to-date: lxml==4.2.6 in /usr/local/lib/python3.6/dist-packages (4.2.6)\n",
            "Requirement already up-to-date: Markdown==3.2.2 in /usr/local/lib/python3.6/dist-packages (3.2.2)\n",
            "Requirement already up-to-date: MarkupSafe==1.1.1 in /usr/local/lib/python3.6/dist-packages (1.1.1)\n",
            "Requirement already up-to-date: matplotlib==3.2.2 in /usr/local/lib/python3.6/dist-packages (3.2.2)\n",
            "Requirement already up-to-date: matplotlib-venn==0.11.5 in /usr/local/lib/python3.6/dist-packages (0.11.5)\n",
            "Requirement already up-to-date: missingno==0.4.2 in /usr/local/lib/python3.6/dist-packages (0.4.2)\n",
            "Requirement already up-to-date: mistune==0.8.4 in /usr/local/lib/python3.6/dist-packages (0.8.4)\n",
            "Requirement already up-to-date: mizani==0.6.0 in /usr/local/lib/python3.6/dist-packages (0.6.0)\n",
            "Requirement already up-to-date: mkl==2019.0 in /usr/local/lib/python3.6/dist-packages (2019.0)\n",
            "Requirement already up-to-date: mlxtend==0.14.0 in /usr/local/lib/python3.6/dist-packages (0.14.0)\n",
            "Requirement already up-to-date: more-itertools==8.4.0 in /usr/local/lib/python3.6/dist-packages (8.4.0)\n",
            "Requirement already up-to-date: moviepy==0.2.3.5 in /usr/local/lib/python3.6/dist-packages (0.2.3.5)\n",
            "Requirement already up-to-date: mpmath==1.1.0 in /usr/local/lib/python3.6/dist-packages (1.1.0)\n",
            "Requirement already up-to-date: msgpack==1.0.0 in /usr/local/lib/python3.6/dist-packages (1.0.0)\n",
            "Requirement already up-to-date: multiprocess==0.70.10 in /usr/local/lib/python3.6/dist-packages (0.70.10)\n",
            "Requirement already up-to-date: multitasking==0.0.9 in /usr/local/lib/python3.6/dist-packages (0.0.9)\n",
            "Requirement already up-to-date: murmurhash==1.0.2 in /usr/local/lib/python3.6/dist-packages (1.0.2)\n",
            "Requirement already up-to-date: music21==5.5.0 in /usr/local/lib/python3.6/dist-packages (5.5.0)\n",
            "Requirement already up-to-date: natsort==5.5.0 in /usr/local/lib/python3.6/dist-packages (5.5.0)\n",
            "Requirement already up-to-date: nbconvert==5.6.1 in /usr/local/lib/python3.6/dist-packages (5.6.1)\n",
            "Requirement already up-to-date: nbformat==5.0.7 in /usr/local/lib/python3.6/dist-packages (5.0.7)\n",
            "Requirement already up-to-date: networkx==2.4 in /usr/local/lib/python3.6/dist-packages (2.4)\n",
            "Requirement already up-to-date: nibabel==3.0.2 in /usr/local/lib/python3.6/dist-packages (3.0.2)\n",
            "Requirement already up-to-date: nltk==3.2.5 in /usr/local/lib/python3.6/dist-packages (3.2.5)\n",
            "Requirement already up-to-date: notebook==5.3.1 in /usr/local/lib/python3.6/dist-packages (5.3.1)\n",
            "Requirement already up-to-date: np-utils==0.5.12.1 in /usr/local/lib/python3.6/dist-packages (0.5.12.1)\n",
            "Requirement already up-to-date: numba==0.48.0 in /usr/local/lib/python3.6/dist-packages (0.48.0)\n",
            "Requirement already up-to-date: numexpr==2.7.1 in /usr/local/lib/python3.6/dist-packages (2.7.1)\n",
            "Requirement already up-to-date: numpy==1.18.5 in /usr/local/lib/python3.6/dist-packages (1.18.5)\n",
            "Requirement already up-to-date: nvidia-ml-py3==7.352.0 in /usr/local/lib/python3.6/dist-packages (7.352.0)\n",
            "Requirement already up-to-date: oauth2client==4.1.3 in /usr/local/lib/python3.6/dist-packages (4.1.3)\n",
            "Requirement already up-to-date: oauthlib==3.1.0 in /usr/local/lib/python3.6/dist-packages (3.1.0)\n",
            "Requirement already up-to-date: okgrade==0.4.3 in /usr/local/lib/python3.6/dist-packages (0.4.3)\n",
            "Requirement already up-to-date: opencv-contrib-python==4.1.2.30 in /usr/local/lib/python3.6/dist-packages (4.1.2.30)\n",
            "Requirement already up-to-date: opencv-python==4.1.2.30 in /usr/local/lib/python3.6/dist-packages (4.1.2.30)\n",
            "Requirement already up-to-date: openpyxl==2.5.9 in /usr/local/lib/python3.6/dist-packages (2.5.9)\n",
            "Requirement already up-to-date: opt-einsum==3.3.0 in /usr/local/lib/python3.6/dist-packages (3.3.0)\n",
            "Requirement already up-to-date: osqp==0.6.1 in /usr/local/lib/python3.6/dist-packages (0.6.1)\n",
            "Requirement already up-to-date: packaging==20.4 in /usr/local/lib/python3.6/dist-packages (20.4)\n",
            "Requirement already up-to-date: palettable==3.3.0 in /usr/local/lib/python3.6/dist-packages (3.3.0)\n",
            "Requirement already up-to-date: pandas==1.0.5 in /usr/local/lib/python3.6/dist-packages (1.0.5)\n",
            "Requirement already up-to-date: pandas-datareader==0.8.1 in /usr/local/lib/python3.6/dist-packages (0.8.1)\n",
            "Requirement already up-to-date: pandas-gbq==0.11.0 in /usr/local/lib/python3.6/dist-packages (0.11.0)\n",
            "Requirement already up-to-date: pandas-profiling==1.4.1 in /usr/local/lib/python3.6/dist-packages (1.4.1)\n",
            "Requirement already up-to-date: pandocfilters==1.4.2 in /usr/local/lib/python3.6/dist-packages (1.4.2)\n",
            "Requirement already up-to-date: panel==0.9.7 in /usr/local/lib/python3.6/dist-packages (0.9.7)\n",
            "Requirement already up-to-date: param==1.9.3 in /usr/local/lib/python3.6/dist-packages (1.9.3)\n",
            "Requirement already up-to-date: parso==0.7.1 in /usr/local/lib/python3.6/dist-packages (0.7.1)\n",
            "Requirement already up-to-date: pathlib==1.0.1 in /usr/local/lib/python3.6/dist-packages (1.0.1)\n",
            "Requirement already up-to-date: patsy==0.5.1 in /usr/local/lib/python3.6/dist-packages (0.5.1)\n",
            "Collecting pdfminer.six==20200726\n",
            "\u001b[?25l  Downloading https://files.pythonhosted.org/packages/98/12/ab5ebafc4cb2b49847de7bfc26f2d152f42a4af136263152d070c61dfd7d/pdfminer.six-20200726-py3-none-any.whl (5.6MB)\n",
            "\u001b[K     |████████████████████████████████| 5.6MB 21.3MB/s \n",
            "\u001b[?25hRequirement already up-to-date: pexpect==4.8.0 in /usr/local/lib/python3.6/dist-packages (4.8.0)\n",
            "Requirement already up-to-date: pickleshare==0.7.5 in /usr/local/lib/python3.6/dist-packages (0.7.5)\n",
            "Requirement already up-to-date: Pillow==7.0.0 in /usr/local/lib/python3.6/dist-packages (7.0.0)\n",
            "Requirement already up-to-date: pip-tools==4.5.1 in /usr/local/lib/python3.6/dist-packages (4.5.1)\n",
            "Requirement already up-to-date: plac==1.1.3 in /usr/local/lib/python3.6/dist-packages (1.1.3)\n",
            "Requirement already up-to-date: plotly==4.4.1 in /usr/local/lib/python3.6/dist-packages (4.4.1)\n",
            "Requirement already up-to-date: plotnine==0.6.0 in /usr/local/lib/python3.6/dist-packages (0.6.0)\n",
            "Requirement already up-to-date: pluggy==0.7.1 in /usr/local/lib/python3.6/dist-packages (0.7.1)\n",
            "Requirement already up-to-date: portpicker==1.3.1 in /usr/local/lib/python3.6/dist-packages (1.3.1)\n",
            "Requirement already up-to-date: prefetch-generator==1.0.1 in /usr/local/lib/python3.6/dist-packages (1.0.1)\n",
            "Requirement already up-to-date: preshed==3.0.2 in /usr/local/lib/python3.6/dist-packages (3.0.2)\n",
            "Requirement already up-to-date: prettytable==0.7.2 in /usr/local/lib/python3.6/dist-packages (0.7.2)\n",
            "Requirement already up-to-date: progressbar2==3.38.0 in /usr/local/lib/python3.6/dist-packages (3.38.0)\n",
            "Requirement already up-to-date: prometheus-client==0.8.0 in /usr/local/lib/python3.6/dist-packages (0.8.0)\n",
            "Requirement already up-to-date: promise==2.3 in /usr/local/lib/python3.6/dist-packages (2.3)\n",
            "Requirement already up-to-date: prompt-toolkit==1.0.18 in /usr/local/lib/python3.6/dist-packages (1.0.18)\n",
            "Requirement already up-to-date: protobuf==3.12.4 in /usr/local/lib/python3.6/dist-packages (3.12.4)\n",
            "Requirement already up-to-date: psutil==5.4.8 in /usr/local/lib/python3.6/dist-packages (5.4.8)\n",
            "Requirement already up-to-date: psycopg2==2.7.6.1 in /usr/local/lib/python3.6/dist-packages (2.7.6.1)\n",
            "Requirement already up-to-date: ptyprocess==0.6.0 in /usr/local/lib/python3.6/dist-packages (0.6.0)\n",
            "Requirement already up-to-date: py==1.9.0 in /usr/local/lib/python3.6/dist-packages (1.9.0)\n",
            "Requirement already up-to-date: pyarrow==0.14.1 in /usr/local/lib/python3.6/dist-packages (0.14.1)\n",
            "Requirement already up-to-date: pyasn1==0.4.8 in /usr/local/lib/python3.6/dist-packages (0.4.8)\n",
            "Requirement already up-to-date: pyasn1-modules==0.2.8 in /usr/local/lib/python3.6/dist-packages (0.2.8)\n",
            "Requirement already up-to-date: pycocotools==2.0.1 in /usr/local/lib/python3.6/dist-packages (2.0.1)\n",
            "Requirement already up-to-date: pycparser==2.20 in /usr/local/lib/python3.6/dist-packages (2.20)\n",
            "Requirement already up-to-date: pyct==0.4.6 in /usr/local/lib/python3.6/dist-packages (0.4.6)\n",
            "Requirement already up-to-date: pydata-google-auth==1.1.0 in /usr/local/lib/python3.6/dist-packages (1.1.0)\n",
            "Requirement already up-to-date: pydot==1.3.0 in /usr/local/lib/python3.6/dist-packages (1.3.0)\n",
            "Requirement already up-to-date: pydot-ng==2.0.0 in /usr/local/lib/python3.6/dist-packages (2.0.0)\n",
            "Requirement already up-to-date: pydotplus==2.0.2 in /usr/local/lib/python3.6/dist-packages (2.0.2)\n",
            "Requirement already up-to-date: PyDrive==1.3.1 in /usr/local/lib/python3.6/dist-packages (1.3.1)\n",
            "Requirement already up-to-date: pyemd==0.5.1 in /usr/local/lib/python3.6/dist-packages (0.5.1)\n",
            "Requirement already up-to-date: pyglet==1.5.0 in /usr/local/lib/python3.6/dist-packages (1.5.0)\n",
            "Requirement already up-to-date: Pygments==2.1.3 in /usr/local/lib/python3.6/dist-packages (2.1.3)\n",
            "Requirement already up-to-date: pygobject==3.26.1 in /usr/lib/python3/dist-packages (3.26.1)\n",
            "Requirement already up-to-date: pymc3==3.7 in /usr/local/lib/python3.6/dist-packages (3.7)\n",
            "Requirement already up-to-date: PyMeeus==0.3.7 in /usr/local/lib/python3.6/dist-packages (0.3.7)\n",
            "Requirement already up-to-date: pymongo==3.11.0 in /usr/local/lib/python3.6/dist-packages (3.11.0)\n",
            "Requirement already up-to-date: pymystem3==0.2.0 in /usr/local/lib/python3.6/dist-packages (0.2.0)\n",
            "Requirement already up-to-date: PyOpenGL==3.1.5 in /usr/local/lib/python3.6/dist-packages (3.1.5)\n",
            "Requirement already up-to-date: pyparsing==2.4.7 in /usr/local/lib/python3.6/dist-packages (2.4.7)\n",
            "Collecting PyPDF2==1.26.0\n",
            "\u001b[?25l  Downloading https://files.pythonhosted.org/packages/b4/01/68fcc0d43daf4c6bdbc6b33cc3f77bda531c86b174cac56ef0ffdb96faab/PyPDF2-1.26.0.tar.gz (77kB)\n",
            "\u001b[K     |████████████████████████████████| 81kB 10.0MB/s \n",
            "\u001b[?25hRequirement already up-to-date: pyrsistent==0.16.0 in /usr/local/lib/python3.6/dist-packages (0.16.0)\n",
            "Requirement already up-to-date: pysndfile==1.3.8 in /usr/local/lib/python3.6/dist-packages (1.3.8)\n",
            "Requirement already up-to-date: PySocks==1.7.1 in /usr/local/lib/python3.6/dist-packages (1.7.1)\n",
            "Requirement already up-to-date: pystan==2.19.1.1 in /usr/local/lib/python3.6/dist-packages (2.19.1.1)\n",
            "Requirement already up-to-date: pytest==3.6.4 in /usr/local/lib/python3.6/dist-packages (3.6.4)\n",
            "Requirement already up-to-date: python-apt==1.6.5+ubuntu0.3 in /usr/lib/python3/dist-packages (1.6.5+ubuntu0.3)\n",
            "Requirement already up-to-date: python-chess==0.23.11 in /usr/local/lib/python3.6/dist-packages (0.23.11)\n",
            "Requirement already up-to-date: python-dateutil==2.8.1 in /usr/local/lib/python3.6/dist-packages (2.8.1)\n",
            "Requirement already up-to-date: python-louvain==0.14 in /usr/local/lib/python3.6/dist-packages (0.14)\n",
            "Requirement already up-to-date: python-slugify==4.0.1 in /usr/local/lib/python3.6/dist-packages (4.0.1)\n",
            "Requirement already up-to-date: python-utils==2.4.0 in /usr/local/lib/python3.6/dist-packages (2.4.0)\n",
            "Requirement already up-to-date: pytz==2018.9 in /usr/local/lib/python3.6/dist-packages (2018.9)\n",
            "Requirement already up-to-date: pyviz-comms==0.7.6 in /usr/local/lib/python3.6/dist-packages (0.7.6)\n",
            "Requirement already up-to-date: PyWavelets==1.1.1 in /usr/local/lib/python3.6/dist-packages (1.1.1)\n",
            "Requirement already up-to-date: PyYAML==3.13 in /usr/local/lib/python3.6/dist-packages (3.13)\n",
            "Requirement already up-to-date: pyzmq==19.0.2 in /usr/local/lib/python3.6/dist-packages (19.0.2)\n",
            "Requirement already up-to-date: qtconsole==4.7.5 in /usr/local/lib/python3.6/dist-packages (4.7.5)\n",
            "Requirement already up-to-date: QtPy==1.9.0 in /usr/local/lib/python3.6/dist-packages (1.9.0)\n",
            "Requirement already up-to-date: regex==2019.12.20 in /usr/local/lib/python3.6/dist-packages (2019.12.20)\n",
            "Requirement already up-to-date: requests==2.23.0 in /usr/local/lib/python3.6/dist-packages (2.23.0)\n",
            "Requirement already up-to-date: requests-oauthlib==1.3.0 in /usr/local/lib/python3.6/dist-packages (1.3.0)\n",
            "Requirement already up-to-date: resampy==0.2.2 in /usr/local/lib/python3.6/dist-packages (0.2.2)\n",
            "Requirement already up-to-date: retrying==1.3.3 in /usr/local/lib/python3.6/dist-packages (1.3.3)\n",
            "Requirement already up-to-date: rpy2==3.2.7 in /usr/local/lib/python3.6/dist-packages (3.2.7)\n",
            "Requirement already up-to-date: rsa==4.6 in /usr/local/lib/python3.6/dist-packages (4.6)\n",
            "Requirement already up-to-date: s3fs==0.4.2 in /usr/local/lib/python3.6/dist-packages (0.4.2)\n",
            "Requirement already up-to-date: s3transfer==0.3.3 in /usr/local/lib/python3.6/dist-packages (0.3.3)\n",
            "Requirement already up-to-date: scikit-image==0.16.2 in /usr/local/lib/python3.6/dist-packages (0.16.2)\n",
            "Requirement already up-to-date: scikit-learn==0.22.2.post1 in /usr/local/lib/python3.6/dist-packages (0.22.2.post1)\n",
            "Requirement already up-to-date: scipy==1.4.1 in /usr/local/lib/python3.6/dist-packages (1.4.1)\n",
            "Requirement already up-to-date: screen-resolution-extra==0.0.0 in /usr/lib/python3/dist-packages (0.0.0)\n",
            "Requirement already up-to-date: scs==2.1.2 in /usr/local/lib/python3.6/dist-packages (2.1.2)\n",
            "Requirement already up-to-date: seaborn==0.10.1 in /usr/local/lib/python3.6/dist-packages (0.10.1)\n",
            "Requirement already up-to-date: Send2Trash==1.5.0 in /usr/local/lib/python3.6/dist-packages (1.5.0)\n",
            "Requirement already up-to-date: setuptools-git==1.2 in /usr/local/lib/python3.6/dist-packages (1.2)\n",
            "Requirement already up-to-date: Shapely==1.7.0 in /usr/local/lib/python3.6/dist-packages (1.7.0)\n",
            "Requirement already up-to-date: simplegeneric==0.8.1 in /usr/local/lib/python3.6/dist-packages (0.8.1)\n",
            "Requirement already up-to-date: six==1.15.0 in /usr/local/lib/python3.6/dist-packages (1.15.0)\n",
            "Requirement already up-to-date: sklearn==0.0 in /usr/local/lib/python3.6/dist-packages (0.0)\n",
            "Requirement already up-to-date: sklearn-pandas==1.8.0 in /usr/local/lib/python3.6/dist-packages (1.8.0)\n",
            "Requirement already up-to-date: smart-open==2.1.0 in /usr/local/lib/python3.6/dist-packages (2.1.0)\n",
            "Requirement already up-to-date: snowballstemmer==2.0.0 in /usr/local/lib/python3.6/dist-packages (2.0.0)\n",
            "Requirement already up-to-date: sortedcontainers==2.2.2 in /usr/local/lib/python3.6/dist-packages (2.2.2)\n",
            "Requirement already up-to-date: spacy==2.2.4 in /usr/local/lib/python3.6/dist-packages (2.2.4)\n",
            "Requirement already up-to-date: Sphinx==1.8.5 in /usr/local/lib/python3.6/dist-packages (1.8.5)\n",
            "Requirement already up-to-date: sphinxcontrib-serializinghtml==1.1.4 in /usr/local/lib/python3.6/dist-packages (1.1.4)\n",
            "Requirement already up-to-date: sphinxcontrib-websupport==1.2.3 in /usr/local/lib/python3.6/dist-packages (1.2.3)\n",
            "Requirement already up-to-date: SQLAlchemy==1.3.18 in /usr/local/lib/python3.6/dist-packages (1.3.18)\n",
            "Requirement already up-to-date: sqlparse==0.3.1 in /usr/local/lib/python3.6/dist-packages (0.3.1)\n",
            "Requirement already up-to-date: srsly==1.0.2 in /usr/local/lib/python3.6/dist-packages (1.0.2)\n",
            "Requirement already up-to-date: statsmodels==0.10.2 in /usr/local/lib/python3.6/dist-packages (0.10.2)\n",
            "Requirement already up-to-date: sympy==1.1.1 in /usr/local/lib/python3.6/dist-packages (1.1.1)\n",
            "Requirement already up-to-date: tables==3.4.4 in /usr/local/lib/python3.6/dist-packages (3.4.4)\n",
            "Requirement already up-to-date: tabulate==0.8.7 in /usr/local/lib/python3.6/dist-packages (0.8.7)\n",
            "Requirement already up-to-date: tblib==1.7.0 in /usr/local/lib/python3.6/dist-packages (1.7.0)\n",
            "Requirement already up-to-date: tensorboard==2.3.0 in /usr/local/lib/python3.6/dist-packages (2.3.0)\n",
            "Requirement already up-to-date: tensorboard-plugin-wit==1.7.0 in /usr/local/lib/python3.6/dist-packages (1.7.0)\n",
            "Requirement already up-to-date: tensorboardcolab==0.0.22 in /usr/local/lib/python3.6/dist-packages (0.0.22)\n",
            "Requirement already up-to-date: tensorflow==2.3.0 in /usr/local/lib/python3.6/dist-packages (2.3.0)\n",
            "Requirement already up-to-date: tensorflow-addons==0.8.3 in /usr/local/lib/python3.6/dist-packages (0.8.3)\n",
            "Requirement already up-to-date: tensorflow-datasets==2.1.0 in /usr/local/lib/python3.6/dist-packages (2.1.0)\n",
            "Requirement already up-to-date: tensorflow-estimator==2.3.0 in /usr/local/lib/python3.6/dist-packages (2.3.0)\n",
            "Requirement already up-to-date: tensorflow-gcs-config==2.3.0 in /usr/local/lib/python3.6/dist-packages (2.3.0)\n",
            "Requirement already up-to-date: tensorflow-hub==0.8.0 in /usr/local/lib/python3.6/dist-packages (0.8.0)\n",
            "Requirement already up-to-date: tensorflow-metadata==0.22.2 in /usr/local/lib/python3.6/dist-packages (0.22.2)\n",
            "Requirement already up-to-date: tensorflow-privacy==0.2.2 in /usr/local/lib/python3.6/dist-packages (0.2.2)\n",
            "Requirement already up-to-date: tensorflow-probability==0.11.0 in /usr/local/lib/python3.6/dist-packages (0.11.0)\n",
            "Requirement already up-to-date: termcolor==1.1.0 in /usr/local/lib/python3.6/dist-packages (1.1.0)\n",
            "Requirement already up-to-date: terminado==0.8.3 in /usr/local/lib/python3.6/dist-packages (0.8.3)\n",
            "Requirement already up-to-date: testpath==0.4.4 in /usr/local/lib/python3.6/dist-packages (0.4.4)\n",
            "Requirement already up-to-date: text-unidecode==1.3 in /usr/local/lib/python3.6/dist-packages (1.3)\n",
            "Requirement already up-to-date: textblob==0.15.3 in /usr/local/lib/python3.6/dist-packages (0.15.3)\n",
            "Requirement already up-to-date: textgenrnn==1.4.1 in /usr/local/lib/python3.6/dist-packages (1.4.1)\n",
            "Requirement already up-to-date: Theano==1.0.5 in /usr/local/lib/python3.6/dist-packages (1.0.5)\n",
            "Requirement already up-to-date: thinc==7.4.0 in /usr/local/lib/python3.6/dist-packages (7.4.0)\n",
            "Requirement already up-to-date: tifffile==2020.7.24 in /usr/local/lib/python3.6/dist-packages (2020.7.24)\n",
            "Requirement already up-to-date: toml==0.10.1 in /usr/local/lib/python3.6/dist-packages (0.10.1)\n",
            "Requirement already up-to-date: toolz==0.10.0 in /usr/local/lib/python3.6/dist-packages (0.10.0)\n",
            "Requirement already up-to-date: torch==1.6.0+cu101 in /usr/local/lib/python3.6/dist-packages (1.6.0+cu101)\n",
            "Requirement already up-to-date: torchsummary==1.5.1 in /usr/local/lib/python3.6/dist-packages (1.5.1)\n",
            "Requirement already up-to-date: torchtext==0.3.1 in /usr/local/lib/python3.6/dist-packages (0.3.1)\n",
            "Requirement already up-to-date: torchvision==0.7.0+cu101 in /usr/local/lib/python3.6/dist-packages (0.7.0+cu101)\n",
            "Requirement already up-to-date: tornado==5.1.1 in /usr/local/lib/python3.6/dist-packages (5.1.1)\n",
            "Requirement already up-to-date: tqdm==4.41.1 in /usr/local/lib/python3.6/dist-packages (4.41.1)\n",
            "Requirement already up-to-date: traitlets==4.3.3 in /usr/local/lib/python3.6/dist-packages (4.3.3)\n",
            "Requirement already up-to-date: tweepy==3.6.0 in /usr/local/lib/python3.6/dist-packages (3.6.0)\n",
            "Requirement already up-to-date: typeguard==2.7.1 in /usr/local/lib/python3.6/dist-packages (2.7.1)\n",
            "Requirement already up-to-date: typing-extensions==3.7.4.2 in /usr/local/lib/python3.6/dist-packages (3.7.4.2)\n",
            "Requirement already up-to-date: tzlocal==1.5.1 in /usr/local/lib/python3.6/dist-packages (1.5.1)\n",
            "Requirement already up-to-date: umap-learn==0.4.6 in /usr/local/lib/python3.6/dist-packages (0.4.6)\n",
            "Requirement already up-to-date: uritemplate==3.0.1 in /usr/local/lib/python3.6/dist-packages (3.0.1)\n",
            "Requirement already up-to-date: urllib3==1.24.3 in /usr/local/lib/python3.6/dist-packages (1.24.3)\n",
            "Requirement already up-to-date: vega-datasets==0.8.0 in /usr/local/lib/python3.6/dist-packages (0.8.0)\n",
            "Requirement already up-to-date: wasabi==0.7.1 in /usr/local/lib/python3.6/dist-packages (0.7.1)\n",
            "Requirement already up-to-date: wcwidth==0.2.5 in /usr/local/lib/python3.6/dist-packages (0.2.5)\n",
            "Requirement already up-to-date: webencodings==0.5.1 in /usr/local/lib/python3.6/dist-packages (0.5.1)\n",
            "Requirement already up-to-date: Werkzeug==1.0.1 in /usr/local/lib/python3.6/dist-packages (1.0.1)\n",
            "Requirement already up-to-date: widgetsnbextension==3.5.1 in /usr/local/lib/python3.6/dist-packages (3.5.1)\n",
            "Requirement already up-to-date: wordcloud==1.5.0 in /usr/local/lib/python3.6/dist-packages (1.5.0)\n",
            "Requirement already up-to-date: wrapt==1.12.1 in /usr/local/lib/python3.6/dist-packages (1.12.1)\n",
            "Requirement already up-to-date: xarray==0.15.1 in /usr/local/lib/python3.6/dist-packages (0.15.1)\n",
            "Requirement already up-to-date: xgboost==0.90 in /usr/local/lib/python3.6/dist-packages (0.90)\n",
            "Requirement already up-to-date: xkit==0.0.0 in /usr/lib/python3/dist-packages (0.0.0)\n",
            "Requirement already up-to-date: xlrd==1.1.0 in /usr/local/lib/python3.6/dist-packages (1.1.0)\n",
            "Requirement already up-to-date: xlwt==1.3.0 in /usr/local/lib/python3.6/dist-packages (1.3.0)\n",
            "Requirement already up-to-date: yellowbrick==0.9.1 in /usr/local/lib/python3.6/dist-packages (0.9.1)\n",
            "Requirement already up-to-date: zict==2.0.0 in /usr/local/lib/python3.6/dist-packages (2.0.0)\n",
            "Requirement already up-to-date: zipp==3.1.0 in /usr/local/lib/python3.6/dist-packages (3.1.0)\n",
            "Requirement already satisfied, skipping upgrade: wheel<1.0,>=0.23.0 in /usr/local/lib/python3.6/dist-packages (from astunparse==1.6.3) (0.34.2)\n",
            "Requirement already satisfied, skipping upgrade: setuptools in /usr/local/lib/python3.6/dist-packages (from chainer==7.4.0) (49.2.0)\n",
            "Building wheels for collected packages: PyPDF2\n",
            "  Building wheel for PyPDF2 (setup.py) ... \u001b[?25l\u001b[?25hdone\n",
            "  Created wheel for PyPDF2: filename=PyPDF2-1.26.0-cp36-none-any.whl size=61086 sha256=a06adf7e9ae732c45ab1965929e0c858912a29ed6f3898e92527f79ae5c23dd6\n",
            "  Stored in directory: /root/.cache/pip/wheels/53/84/19/35bc977c8bf5f0c23a8a011aa958acd4da4bbd7a229315c1b7\n",
            "Successfully built PyPDF2\n",
            "Installing collected packages: cryptography, pdfminer.six, PyPDF2, camelot-py\n",
            "Successfully installed PyPDF2-1.26.0 camelot-py-0.8.2 cryptography-3.0 pdfminer.six-20200726\n"
          ],
          "name": "stdout"
        }
      ]
    },
    {
      "cell_type": "code",
      "metadata": {
        "id": "5G2p0uoQaGJE"
      },
      "source": [
        "import os\n",
        "import pandas as pd\n",
        "import matplotlib.pyplot as plt\n",
        "import re\n",
        "import glob"
      ],
      "execution_count": null,
      "outputs": []
    },
    {
      "cell_type": "code",
      "metadata": {
        "id": "-GVzoTqtarpN"
      },
      "source": [
        "import camelot as cm"
      ],
      "execution_count": null,
      "outputs": []
    },
    {
      "cell_type": "markdown",
      "metadata": {
        "id": "vsxJqw3iv1FL"
      },
      "source": [
        "# Experiment\n"
      ]
    },
    {
      "cell_type": "markdown",
      "metadata": {
        "id": "WuptwITbwra5"
      },
      "source": [
        "This part is to experiment with the API and figure out how well the different options are giving you results. I got the best results from using Stream with a Row tolerance between 55 and 70. The following cells are some ways in which one can visually explore the extraction. More details can be found at https://camelot-py.readthedocs.io/en/master/user/advanced.html "
      ]
    },
    {
      "cell_type": "code",
      "metadata": {
        "id": "b5nb-L6Hv0pv"
      },
      "source": [
        "tables= cm.read_pdf('data/2-end/5.pdf', pages='11-13' , flavor = 'lattice', line_scale=70)"
      ],
      "execution_count": null,
      "outputs": []
    },
    {
      "cell_type": "code",
      "metadata": {
        "id": "EGRJyzK3y4FB"
      },
      "source": [
        "tables= cm.read_pdf('data/2-end/5.pdf', pages='11-13' , flavor = 'stream', row_tol=50)"
      ],
      "execution_count": null,
      "outputs": []
    },
    {
      "cell_type": "code",
      "metadata": {
        "id": "vfejyxw0yFrr"
      },
      "source": [
        "cm.plot(tables[0], kind='grid')"
      ],
      "execution_count": null,
      "outputs": []
    },
    {
      "cell_type": "code",
      "metadata": {
        "id": "l3cjdxcayIsB"
      },
      "source": [
        "cm.plot(tables[0], kind='contour')"
      ],
      "execution_count": null,
      "outputs": []
    },
    {
      "cell_type": "code",
      "metadata": {
        "id": "9fHnYIpxzGu2"
      },
      "source": [
        " tables.export('1s.csv', f='csv', compress=False)  \n",
        " # inspecting the csvs was the fastest way to get detailed info"
      ],
      "execution_count": null,
      "outputs": []
    },
    {
      "cell_type": "markdown",
      "metadata": {
        "id": "N0OSXh6lcezL"
      },
      "source": [
        "# Factory Method"
      ]
    },
    {
      "cell_type": "markdown",
      "metadata": {
        "id": "bKj51UPdc6Xx"
      },
      "source": [
        "## Set up extraction\n"
      ]
    },
    {
      "cell_type": "code",
      "metadata": {
        "id": "K8a_XfgIcw4n"
      },
      "source": [
        "# The lables for the columns in the various files are slightly different or are in different orders, \n",
        "# this code helps identify each and standardize. \n",
        "# this is a heuristic copied from Vinayak Mehta\n",
        "headers = [\n",
        "    'unique_id',\n",
        "    'state',\n",
        "    'district',\n",
        "    'disease_illness',\n",
        "    'num_cases',\n",
        "    'num_deaths',\n",
        "    'date_of_start_of_outbreak',\n",
        "    'date_of_reporting',\n",
        "    'current_status',\n",
        "    'comment_action_taken',\n",
        "    'reported_late',\n",
        "    'under_surveillance'\n",
        "]\n",
        "ten_headers = [\n",
        "    'unique_id',\n",
        "    'state',\n",
        "    'district',\n",
        "    'disease_illness',\n",
        "    'num_cases',\n",
        "    'num_deaths',\n",
        "    'date_of_start_of_outbreak',\n",
        "    'date_of_reporting',\n",
        "    'current_status',\n",
        "    'comment_action_taken'\n",
        "]\n",
        "nine_headers = [\n",
        "    'unique_id',\n",
        "    'state',\n",
        "    'district',\n",
        "    'disease_illness',\n",
        "    'num_cases',\n",
        "    'num_deaths',\n",
        "    'date_of_start_of_outbreak',\n",
        "    'current_status',\n",
        "    'comment_action_taken'\n",
        "]"
      ],
      "execution_count": null,
      "outputs": []
    },
    {
      "cell_type": "code",
      "metadata": {
        "id": "_6Gpwd1FdBHV"
      },
      "source": [
        "# Takes the tables we extract and makes clean DF from from it. \n",
        "\n",
        "def append_tables(table_list):\n",
        "    df = pd.DataFrame(columns=headers)\n",
        "    for tables in all_tables:\n",
        "        for table in tables:\n",
        "            columns = list(table.df.iloc[0])\n",
        "            if table.shape[1] == 10:\n",
        "                temp = table.df.copy()\n",
        "                if 'unique' in columns[0].lower():\n",
        "                    temp = temp.iloc[1:]\n",
        "                temp.columns = ten_headers\n",
        "                temp['reported_late'] = False\n",
        "                temp['under_surveillance'] = False\n",
        "                df = pd.concat([df, temp], sort=False)\n",
        "            elif table.shape[1] == 9:\n",
        "                temp = table.df.copy()\n",
        "                if 'disease' in columns[0].lower():\n",
        "                    c = temp.iloc[0]\n",
        "                    temp = temp.iloc[2:]\n",
        "                    temp.columns = nine_headers\n",
        "                    if 'reportedlate' in c[0].lower().replace(' ', ''):    \n",
        "                        temp['reported_late'] = True\n",
        "                        temp['under_surveillance'] = False\n",
        "                    elif 'undersurv' in c[0].lower().replace(' ', ''):\n",
        "                        temp['reported_late'] = False\n",
        "                        temp['under_surveillance'] = True\n",
        "                    df = pd.concat([df, temp], sort=False)\n",
        "                else:\n",
        "                    temp.columns = nine_headers\n",
        "                    temp['reported_late'] = True\n",
        "                    temp['under_surveillance'] = False\n",
        "                    df = pd.concat([df, temp], sort=False)\n",
        "    return df\n"
      ],
      "execution_count": null,
      "outputs": []
    },
    {
      "cell_type": "markdown",
      "metadata": {
        "id": "rCvf0swOdQJL"
      },
      "source": [
        "## Run the code"
      ]
    },
    {
      "cell_type": "markdown",
      "metadata": {
        "id": "PNLzS-gUsTR-"
      },
      "source": [
        "After experimentation it was obvious that even with a high-ram instance in colab (25GB), or on my system with 16GB RAM, processing more than 25 files in one go would crash the system due to inavailability of ram.  So I split up each year into two folders of 25-26 files each and appended the tables into one before processing. With the settings so far, and 25 gb ram, each cyle took between 5 and 15 minutes. so the whole 12 years of data took around 6 hours. Most of the time, of course was spent figuring out how to get it to this point.\n"
      ]
    },
    {
      "cell_type": "code",
      "metadata": {
        "id": "AiXD9d5jb_oo"
      },
      "source": [
        "all_tables = []\n",
        "def extract_tables_from_pdfs():\n",
        "    for file in glob.iglob(r'/content/gdrive/My Drive/Colab Notebooks/IDSP_Data/data/2020/1/*.pdf'):\n",
        "        tables = cm.read_pdf(file, pages=\"3-end\", flavor = 'lattice',  line_scale=40)\n",
        "        print( 'Found {} tables(s)'.format(tables.n))\n",
        "        all_tables.append(tables)\n",
        "    return all_tables\n",
        "\n",
        "# for recursively looking through a folder including subfolders use pattern\n",
        "# `for file in glob.iglob(r'/data_folder/**/*.pdf')`\n"
      ],
      "execution_count": null,
      "outputs": []
    },
    {
      "cell_type": "code",
      "metadata": {
        "id": "yOgHoAw4cr9_"
      },
      "source": [
        "# I like timing things\n",
        "%time extract_tables_from_pdfs()"
      ],
      "execution_count": null,
      "outputs": []
    },
    {
      "cell_type": "code",
      "metadata": {
        "id": "Tblj3lMvdh5Z"
      },
      "source": [
        "df_2020_1 = append_tables(all_tables)"
      ],
      "execution_count": null,
      "outputs": []
    },
    {
      "cell_type": "code",
      "metadata": {
        "id": "AV911Ve9ZIix"
      },
      "source": [
        "df_2020_2 = append_tables(all_tables)"
      ],
      "execution_count": null,
      "outputs": []
    },
    {
      "cell_type": "code",
      "metadata": {
        "id": "pOKPGBA-5HC7"
      },
      "source": [
        "df_2020 = df_2020_1.append(df_2020_2)"
      ],
      "execution_count": null,
      "outputs": []
    },
    {
      "cell_type": "markdown",
      "metadata": {
        "id": "_0X-Ok9Yd8wI"
      },
      "source": [
        "## Clean & export data"
      ]
    },
    {
      "cell_type": "markdown",
      "metadata": {
        "id": "iV6iHqoAtF0K"
      },
      "source": [
        "This does only the most basic clean up, further clearning depends on the type of analysis you want to do, and for me, that was much more extensive and depended on the year of analysis so I am not including that here. This is how I got to the shared files.\n"
      ]
    },
    {
      "cell_type": "code",
      "metadata": {
        "id": "1sFYbo8nd5sx",
        "colab": {
          "base_uri": "https://localhost:8080/",
          "height": 347
        },
        "outputId": "86176277-bbb4-42c8-df62-c9e0bae8bc81"
      },
      "source": [
        "df_2020.info()"
      ],
      "execution_count": null,
      "outputs": [
        {
          "output_type": "stream",
          "text": [
            "<class 'pandas.core.frame.DataFrame'>\n",
            "Int64Index: 514 entries, 1 to 5\n",
            "Data columns (total 12 columns):\n",
            " #   Column                     Non-Null Count  Dtype \n",
            "---  ------                     --------------  ----- \n",
            " 0   unique_id                  514 non-null    object\n",
            " 1   state                      514 non-null    object\n",
            " 2   district                   514 non-null    object\n",
            " 3   disease_illness            514 non-null    object\n",
            " 4   num_cases                  514 non-null    object\n",
            " 5   num_deaths                 514 non-null    object\n",
            " 6   date_of_start_of_outbreak  514 non-null    object\n",
            " 7   date_of_reporting          301 non-null    object\n",
            " 8   current_status             514 non-null    object\n",
            " 9   comment_action_taken       514 non-null    object\n",
            " 10  reported_late              499 non-null    object\n",
            " 11  under_surveillance         499 non-null    object\n",
            "dtypes: object(12)\n",
            "memory usage: 52.2+ KB\n"
          ],
          "name": "stdout"
        }
      ]
    },
    {
      "cell_type": "code",
      "metadata": {
        "id": "H_WOzBqPQ8yr"
      },
      "source": [
        "# Came to just these after much trial and error\n",
        "def dfcleaning(df):\n",
        "  df = df.drop(['reported_late' , 'under_surveillance'], axis=1) # These are generated by the extraction function for keeping track of things and are not of use\n",
        "  df['date_of_reporting'] = df['date_of_reporting'].fillna(\"n/a\") # Fill with whatever you'd like, this helps clean it up in a spreadsheet software easier \n",
        "  df = df.drop(df[df.unique_id == \"U\\nnique I.D.\"].index)  #This takes care of the repeated header rows\n",
        "  df = df.apply(lambda x: x.str.strip() if x.dtype == \"object\" else x) # Removes trailing and inital whitespaces\n",
        "  return df\n"
      ],
      "execution_count": null,
      "outputs": []
    },
    {
      "cell_type": "code",
      "metadata": {
        "id": "xBx02SstThRm"
      },
      "source": [
        "df_2020 = df_2020.pipe(dfcleaning) # discovering pandas' pipe function was one of the highlights of this process. "
      ],
      "execution_count": null,
      "outputs": []
    },
    {
      "cell_type": "code",
      "metadata": {
        "id": "P1w99EWncmMH"
      },
      "source": [
        "df_2020[1400:1420]"
      ],
      "execution_count": null,
      "outputs": []
    },
    {
      "cell_type": "code",
      "metadata": {
        "id": "4UDXW0hwfZvB"
      },
      "source": [
        "df_2020.to_csv('/content/gdrive/My Drive/Colab Notebooks/IDSP_Data/df_2020.csv',  index= False)"
      ],
      "execution_count": null,
      "outputs": []
    },
    {
      "cell_type": "code",
      "metadata": {
        "id": "MXiFXlUnbiw4"
      },
      "source": [
        "del  df_2020"
      ],
      "execution_count": null,
      "outputs": []
    }
  ]
}